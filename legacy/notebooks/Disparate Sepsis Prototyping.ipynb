{
 "cells": [
  {
   "cell_type": "code",
   "execution_count": null,
   "id": "9f5ed8ef",
   "metadata": {},
   "outputs": [],
   "source": [
    "from datetime import datetime, timedelta\n",
    "\n",
    "\n",
    "import pandas as pd\n",
    "import psycopg2 as pg\n",
    "from tqdm.auto import tqdm\n",
    "from sqlalchemy import create_engine, URL\n",
    "from sqlalchemy.sql import text\n",
    "\n",
    "tqdm.pandas()"
   ]
  },
  {
   "cell_type": "code",
   "execution_count": null,
   "id": "8e849cbb",
   "metadata": {},
   "outputs": [],
   "source": [
    "url = URL.create(\n",
    "    drivername=\"postgresql+psycopg2\",\n",
    "    username=\"postgres\", password=open(\"/data/home/username/.pw\", \"r\").read().strip(),\n",
    "    host=\"localhost\", database=\"mimic\",\n",
    "    )\n",
    "engine = create_engine(url=url, connect_args={'options': \"--search_path=mimiciii\"}, execution_options={\"stream_results\": True})\n",
    "conn = engine.connect()"
   ]
  },
  {
   "cell_type": "code",
   "execution_count": null,
   "id": "b3246737",
   "metadata": {},
   "outputs": [],
   "source": [
    "# need to select the 56 features + summary stats from RoS\n",
    "icustays = pd.read_sql_query(sql=text(\"select * from mimiciii.icustays\"), con=conn)\n",
    "patients = pd.read_sql_query(sql=text(\"select * from mimiciii.patients\"), con=conn)\n",
    "admissions = pd.read_sql_query(sql=text(\"select * from mimiciii.admissions\"), con=conn)"
   ]
  },
  {
   "cell_type": "code",
   "execution_count": null,
   "id": "bfb9dbf5",
   "metadata": {},
   "outputs": [],
   "source": [
    "ce = pd.read_csv(\"/data4/mimiciii/physionet.org/files/mimiciii/1.4/CHARTEVENTS.csv.gz\", low_memory=False)\n",
    "ce.head()"
   ]
  },
  {
   "cell_type": "code",
   "execution_count": null,
   "id": "ff3dbbcb",
   "metadata": {},
   "outputs": [],
   "source": [
    "items = pd.read_sql_query(sql=text(\"select * from mimiciii.d_items\"), con=conn)\n",
    "items"
   ]
  },
  {
   "cell_type": "code",
   "execution_count": null,
   "id": "f3c893fc",
   "metadata": {},
   "outputs": [],
   "source": [
    "import pandas as pd\n",
    "sepsis_df = pd.read_csv(\"/data2/username/sepsis3_mimic_ros_replication.csv\")\n",
    "sepsis_df_no_bc = sepsis_df.dropna(subset=\"blood_culture_time\")\n",
    "sepsis_df_no_bc.to_csv(\"/data2/username/sepsis3_mimic_ros_20240123.csv\")"
   ]
  },
  {
   "cell_type": "code",
   "execution_count": null,
   "id": "87579871",
   "metadata": {},
   "outputs": [],
   "source": [
    "sepsis_df_no_bc[\"sepsis-3\"].mean()"
   ]
  },
  {
   "cell_type": "code",
   "execution_count": null,
   "id": "933b942b",
   "metadata": {},
   "outputs": [],
   "source": [
    "#sepsis_df = pd.read_csv(\"../mimic_sepsis/new_sepsis_mimiciii.csv\") \n",
    "# -- new strat -- left join everything INTO the sepsis DF (maintains original cohort excl criteria)\n",
    "sepsis_df = pd.read_csv(\"/data4/username/sepsis3-mimic/data/sepsis3-df-alt.csv\")\n",
    "sepsis_df.head(n=20)"
   ]
  },
  {
   "cell_type": "code",
   "execution_count": null,
   "id": "dd180f99",
   "metadata": {},
   "outputs": [],
   "source": []
  },
  {
   "cell_type": "code",
   "execution_count": null,
   "id": "b33efb77",
   "metadata": {},
   "outputs": [],
   "source": [
    "icustays_metavision = icustays[icustays.dbsource == \"metavision\"]\n",
    "#metavision_sepsis = sepsis_df[sepsis_df.icustay_id.isin(icustays_metavision.icustay_id)]\n",
    "ce_for_sepsis = ce[ce.ICUSTAY_ID.isin(sepsis_df.icustay_id)]"
   ]
  },
  {
   "cell_type": "code",
   "execution_count": null,
   "id": "d69b5749",
   "metadata": {},
   "outputs": [],
   "source": [
    "set(sepsis_df.icustay_id) - set(icustays_metavision.icustay_id) # all sepsis ICU stays in metavision subset"
   ]
  },
  {
   "cell_type": "code",
   "execution_count": null,
   "id": "a0186eb9",
   "metadata": {},
   "outputs": [],
   "source": [
    "# confirm sepsis definition\n",
    "\n",
    "(((sepsis_df[\"sofa>=2\"] == 1) & (sepsis_df[\"suspicion_poe\"])) == sepsis_df[\"sepsis-3\"]).all()"
   ]
  },
  {
   "cell_type": "code",
   "execution_count": null,
   "id": "066b873f",
   "metadata": {},
   "outputs": [],
   "source": [
    "sepsis_df[\"intime\"] - sepsis_df[\"suspected_infection_time_poe\"]"
   ]
  },
  {
   "cell_type": "code",
   "execution_count": null,
   "id": "8eff7d19",
   "metadata": {},
   "outputs": [],
   "source": [
    "sepsis_df.loc[:, \"sepsis-3\"].mean() # prevalence in metavision pop"
   ]
  },
  {
   "cell_type": "code",
   "execution_count": null,
   "id": "9363b4f2",
   "metadata": {},
   "outputs": [],
   "source": [
    "df = sepsis_df.loc[pd.isnull(sepsis_df[\"suspected_infection_time_poe\"]),[\"antibiotic_time_poe\", \"suspected_infection_time_poe\", \"blood_culture_time\", \"sofa\", \"sepsis-3\"]]\n"
   ]
  },
  {
   "cell_type": "code",
   "execution_count": null,
   "id": "b379ff87",
   "metadata": {},
   "outputs": [],
   "source": [
    "TIME_FMT = \"%Y-%m-%d %H:%M:%S\"\n",
    "\n",
    "def get_onset_hours(row):\n",
    "    \"\"\"intime = icustays[icustays.icustay_id == row.icustayid].intime\n",
    "    first_charttime = ce_for_metavision[ce_for_metavision.ICUSTAY_ID == row.icustayid].CHARTTIME.min()\n",
    "    sepsis_timestamp = datetime.fromtimestamp(row.sepsis_time)\n",
    "    onset_from_intime = (sepsis_timestamp - intime.item()).seconds / 3600\n",
    "    if pd.notnull(first_charttime):\n",
    "        onset_from_charttime = (sepsis_timestamp - datetime.strptime(first_charttime, TIME_FMT)).seconds / 3600\n",
    "    else:\n",
    "        onset_from_charttime = -1 # no chart events were found for such patients -- 2x check\n",
    "    return onset_from_intime, onset_from_charttime\"\"\"\n",
    "    candidate_onset_time = datetime.strptime(row[\"suspected_infection_time_poe\"], TIME_FMT) # if blood culture was first, it will be eq to suspected infection time\n",
    "    \n",
    "    if candidate_onset_time.hour == 0 and candidate_onset_time.minute == 0 and candidate_onset_time.second == 0:\n",
    "        # unreliable timestamp; use blood culture time if on the same day (i.e., blood culture taken within 24h)\n",
    "        blood_culture_time = datetime.strptime(row[\"blood_culture_time\"], TIME_FMT)\n",
    "        if blood_culture_time.year == candidate_onset_time.year and blood_culture_time.month == candidate_onset_time.month and blood_culture_time.day == candidate_onset_time.day:\n",
    "            candidate_onset_time = blood_culture_time\n",
    "            # o/w, use the antibiotic time, since the zero-houred timestamp is otherwise closer to the true suspicion of infection time (min of abx and culture time)\n",
    "    sepsis_onset_time = candidate_onset_time\n",
    "    intime = datetime.strptime(row[\"intime\"], TIME_FMT)\n",
    "    first_charttime = datetime.strptime(ce_for_sepsis[ce_for_sepsis.ICUSTAY_ID == row.icustay_id].CHARTTIME.min(), TIME_FMT)    \n",
    "    onset_from_intime = (sepsis_onset_time - intime).total_seconds() / 3600\n",
    "    if pd.notnull(first_charttime):\n",
    "        onset_from_charttime = (sepsis_onset_time - first_charttime).total_seconds() / 3600\n",
    "    else:\n",
    "        onset_from_charttime = -1 # no chart events were found for such patients -- 2x check\n",
    "    return onset_from_intime, onset_from_charttime\n",
    "\n",
    "results = sepsis_df.loc[sepsis_df[\"sepsis-3\"] == 1].progress_apply(get_onset_hours, axis=1, result_type=\"expand\")\n",
    "#metavision_sepsis[[\"from_intime\", \"from_min_charttime\"]] = metavision_sepsis.progress_apply(get_onset_hours, axis=1, result_type=\"expand\")\n",
    "display(results.head())\n",
    "#sepsis_df.loc[sepsis_df[\"sepsis-3\"] == 1, [\"sepsis_onset_from_intime\", \"sepsis_onset_from_min_charttime\"]] = results"
   ]
  },
  {
   "cell_type": "code",
   "execution_count": null,
   "id": "a60ccf15",
   "metadata": {},
   "outputs": [],
   "source": [
    "datetime.strptime(sepsis_df.suspected_infection_time_poe.iloc[3], TIME_FMT).second"
   ]
  },
  {
   "cell_type": "code",
   "execution_count": null,
   "id": "2c265367",
   "metadata": {},
   "outputs": [],
   "source": [
    "sepsis_df[[\"antibiotic_time_poe\", \"blood_culture_time\", \"suspected_infection_time_poe\", \"intime\", \"sepsis_onset_from_min_charttime\", \"sepsis_onset_from_intime\"]]"
   ]
  },
  {
   "cell_type": "code",
   "execution_count": null,
   "id": "defa6a20",
   "metadata": {},
   "outputs": [],
   "source": [
    "sepsis_df.loc[sepsis_df[\"sepsis-3\"] == 1, [\"sepsis_onset_from_intime\", \"sepsis_onset_from_min_charttime\"]] = results.values"
   ]
  },
  {
   "cell_type": "code",
   "execution_count": null,
   "id": "e133b721",
   "metadata": {},
   "outputs": [],
   "source": [
    "final_sepsis_cohort = sepsis_df[((sepsis_df.sepsis_onset_from_min_charttime > 3) & (sepsis_df.sepsis_onset_from_min_charttime <= 11))| (sepsis_df[\"sepsis-3\"] == 0)]\n",
    "final_sepsis_cohort[\"sepsis-3\"].mean()"
   ]
  },
  {
   "cell_type": "code",
   "execution_count": null,
   "id": "48f5fc9a",
   "metadata": {},
   "outputs": [],
   "source": [
    "metavision_sepsis_3h = metavision_sepsis[metavision_sepsis.from_min_charttime >= 3]\n",
    "exclude_ids = metavision_sepsis[metavision_sepsis.from_min_charttime < 3].icustayid\n",
    "\n",
    "metavision_sepsis_6h = metavision_sepsis[metavision_sepsis.from_min_charttime >= 6]\n",
    "exclude_ids_6h = metavision_sepsis[(metavision_sepsis.from_min_charttime < 6) | (metavision_sepsis.from_min_charttime > 14)].icustayid"
   ]
  },
  {
   "cell_type": "code",
   "execution_count": null,
   "id": "dfd66d83",
   "metadata": {},
   "outputs": [],
   "source": [
    "final_sepsis_cohort"
   ]
  },
  {
   "cell_type": "code",
   "execution_count": null,
   "id": "d704b34a",
   "metadata": {},
   "outputs": [],
   "source": [
    "def get_age(row):\n",
    "    try:\n",
    "        return (row.intime - patients[patients.subject_id == row.subject_id].dob.item()).days / 365\n",
    "    except pd.errors.OutOfBoundsDatetime:\n",
    "        return 89 # see mimic docs -- this means age >= 89\n",
    "\n",
    "cohort = final_sepsis_cohort.merge(patients[[\"subject_id\", \"gender\", \"dob\"]], on=\"subject_id\", how=\"left\")\n",
    "cohort = cohort[~cohort.icustay_id.isin(exclude_ids_6h)]\n",
    "\n",
    "intime_date = pd.to_datetime(cohort['intime']).dt.date\n",
    "dob_date = pd.to_datetime(cohort['dob']).dt.date\n",
    "cohort['age'] = (intime_date - dob_date).apply(lambda x: x.days // 365)\n",
    "cohort.loc[cohort.age == 300, 'age'] = 89\n"
   ]
  },
  {
   "cell_type": "code",
   "execution_count": null,
   "id": "4c1eb868",
   "metadata": {},
   "outputs": [],
   "source": []
  },
  {
   "cell_type": "code",
   "execution_count": null,
   "id": "1f9d214f",
   "metadata": {},
   "outputs": [],
   "source": [
    "from functools import partial\n",
    "\n",
    "TIME_FMT = \"%Y-%m-%d %H:%M:%S\"\n",
    "\n",
    "def censor_chartevents(horizon, group):\n",
    "    horizon_ts = datetime.strptime(group.CHARTTIME.min(), TIME_FMT) + timedelta(hours=horizon)\n",
    "    return group[group.CHARTTIME <= horizon_ts.strftime(TIME_FMT)]\n",
    "\n",
    "#ce_censored = ce_for_metavision.groupby(\"ICUSTAY_ID\").progress_apply(partial(censor_chartevents, 6))\n",
    "ce_censored_sepsis = ce_for_sepsis.groupby(\"ICUSTAY_ID\").progress_apply(partial(censor_chartevents, 3))"
   ]
  },
  {
   "cell_type": "code",
   "execution_count": null,
   "id": "d3822d8c",
   "metadata": {},
   "outputs": [],
   "source": [
    "item_counts = ce_censored_sepsis[\"ITEMID\"].value_counts()\n",
    "items_with_counts = items[items.dbsource == \"metavision\"].merge(item_counts.to_frame().reset_index(), left_on=\"itemid\", right_on=\"ITEMID\", how=\"left\").drop(\"ITEMID\", axis=1)"
   ]
  },
  {
   "cell_type": "code",
   "execution_count": null,
   "id": "f883992b",
   "metadata": {},
   "outputs": [],
   "source": [
    "def get_measurements_by_string(name):\n",
    "    measures = items_with_counts[items_with_counts.label.str.contains(name, case=False, regex=True, na=False)]\n",
    "    values = ce_censored_sepsis[ce_censored_sepsis.ITEMID.isin(measures.itemid)]\n",
    "    return values\n",
    "\n",
    "measures = items_with_counts[items_with_counts.label.str.contains(\"heart rate\", case=False, regex=True, na=False)].sort_values(by=\"count\")\n",
    "hrs = ce_censored_sepsis[ce_censored_sepsis.ITEMID.isin(measures.itemid)]\n",
    "measures = items_with_counts[items_with_counts.label.str.contains(\"systolic\", case=False, regex=True, na=False)].sort_values(by=\"count\")\n",
    "sbps = ce_censored_sepsis[ce_censored_sepsis.ITEMID.isin(measures.itemid)]"
   ]
  },
  {
   "cell_type": "code",
   "execution_count": null,
   "id": "ad8337b6",
   "metadata": {},
   "outputs": [],
   "source": [
    "hrs.describe()"
   ]
  },
  {
   "cell_type": "code",
   "execution_count": null,
   "id": "39cd1882",
   "metadata": {},
   "outputs": [],
   "source": [
    "\n",
    "def get_shock_series(group):\n",
    "    try:\n",
    "        hr_group = hrs.groupby(level=0).get_group(group.name)\n",
    "        # merge hr_group and group on charttime\n",
    "        merged = group.merge(hr_group, on=\"CHARTTIME\", how=\"inner\")\n",
    "        # hr (right) / sbp (left)\n",
    "        shock_index = np.where(merged[\"VALUENUM_x\"] != 0, merged[\"VALUENUM_y\"] / merged[\"VALUENUM_x\"], None)\n",
    "    except KeyError:\n",
    "        # then shock index cannot be computed -- return null but combine-able thing\n",
    "        return pd.Series([], name=\"shock_index\")\n",
    "    return pd.Series(shock_index, name=\"shock_index\")\n",
    "\n",
    "shock_index_series = sbps.groupby(level=0).progress_apply(get_shock_series)"
   ]
  },
  {
   "cell_type": "code",
   "execution_count": null,
   "id": "e5d1dea2",
   "metadata": {},
   "outputs": [],
   "source": []
  },
  {
   "cell_type": "code",
   "execution_count": null,
   "id": "ea1edc0f",
   "metadata": {},
   "outputs": [],
   "source": [
    "from functools import partial, reduce\n",
    "\n",
    "# max lactic acid\n",
    "lactic_acid = get_measurements_by_string(\"lactic\")\n",
    "max_lactic_acid = pd.Series(lactic_acid.groupby(level=0).VALUENUM.max(), name=\"max_lactic_acid\")\n",
    "\n",
    "# first shock index (hr / sbp) x age\n",
    "first_shock = pd.Series(shock_index_series.groupby(level=0).first(), name=\"first_shock_index\") # multiply in age later\n",
    "\n",
    "# last shock index (hr / sbp) x age\n",
    "last_shock = pd.Series(shock_index_series.groupby(level=0).last(), name=\"last_shock_index\")\n",
    "\n",
    "# max wbc\n",
    "wbc = get_measurements_by_string(\"^wbc$\")\n",
    "max_wbc = pd.Series(wbc.groupby(level=0).VALUENUM.max(), name=\"max_wbc\")\n",
    "\n",
    "# delta lactic acid\n",
    "delta_lactic_acid = pd.Series(lactic_acid.groupby(level=0).VALUENUM.apply(lambda x: x.iloc[-1] - x.iloc[0]), name=\"delta_lactic_acid\")\n",
    "\n",
    "# max neutrophils\n",
    "neuts = get_measurements_by_string(\"neuts\")\n",
    "max_neuts = pd.Series(neuts.groupby(level=0).VALUENUM.max(), name=\"max_neuts\")\n",
    "\n",
    "# max glucose\n",
    "glucose = get_measurements_by_string(\"^glucose (finger stick|\\([\\w\\s]+\\)$)\")\n",
    "max_glucose = pd.Series(glucose.groupby(level=0).VALUENUM.max(), name=\"max_glucose\")\n",
    "\n",
    "# max BUN\n",
    "bun = get_measurements_by_string(\"^bun$\")\n",
    "max_bun = pd.Series(bun.groupby(level=0).VALUENUM.max(), name=\"max_bun\")\n",
    "\n",
    "# max RR\n",
    "rr = get_measurements_by_string(\"(^RR$|respiratory rate)\")\n",
    "max_rr = pd.Series(rr.groupby(level=0).VALUENUM.max(), name=\"max_rr\")\n",
    "\n",
    "# last albuminb\n",
    "albumin = get_measurements_by_string(\"^albumin$\")\n",
    "last_alb = pd.Series(albumin.groupby(level=0).VALUENUM.last(), name=\"last_albumin\")\n",
    "\n",
    "# min SBP\n",
    "sbp = get_measurements_by_string(\"(blood pressure|bp) systolic\")\n",
    "min_sbp = pd.Series(sbp.groupby(level=0).VALUENUM.min(), name=\"min_sbp\")\n",
    "\n",
    "# max creat\n",
    "creat = get_measurements_by_string(\"^creatinine$\")\n",
    "max_creat = pd.Series(creat.groupby(level=0).VALUENUM.max(), name=\"max_creatinine\")\n",
    "\n",
    "# max temp F\n",
    "temp_f = get_measurements_by_string(\"temperature F\")\n",
    "temp_c = get_measurements_by_string(\"temperature C\")\n",
    "temp = pd.concat([1.8 * temp_c.VALUENUM + 32, temp_f.VALUENUM], axis=0)\n",
    "max_temp_f = pd.Series(temp.groupby(level=0).max(), name=\"max_temp_f\")\n",
    "\n",
    "merge = partial(pd.merge, on='ICUSTAY_ID', how='outer')\n",
    "initial_covariates = reduce(merge, [\n",
    "    max_lactic_acid, first_shock, last_shock, max_wbc, delta_lactic_acid,\n",
    "    max_neuts, max_glucose, max_bun, max_rr, last_alb, min_sbp,\n",
    "    max_creat, max_temp_f])\n",
    "\n"
   ]
  },
  {
   "cell_type": "code",
   "execution_count": null,
   "id": "6417e9b9",
   "metadata": {},
   "outputs": [],
   "source": [
    "raw_full_df = pd.merge(final_sepsis_cohort, initial_covariates.reset_index(), how=\"left\", left_on=\"icustay_id\", right_on=\"ICUSTAY_ID\")\n",
    "raw_full_df[\"first_shock_index_age\"] = raw_full_df[\"first_shock_index\"] * raw_full_df[\"age\"] # nans will propagate\n",
    "raw_full_df[\"last_shock_index_age\"] = raw_full_df[\"last_shock_index\"] * raw_full_df[\"age\"] # nans will propagate\n",
    "#raw_full_df[\"sepsis_6h\"] = raw_full_df[\"icustay_id\"].isin(metavision_sepsis_6h.icustayid)"
   ]
  },
  {
   "cell_type": "code",
   "execution_count": null,
   "id": "08e96642",
   "metadata": {},
   "outputs": [],
   "source": [
    "raw_full_df = raw_full_df.merge(metavision_sepsis_6h[[\"icustayid\", \"from_intime\", \"from_min_charttime\"]], how=\"left\", left_on=\"icustay_id\", right_on=\"icustayid\")"
   ]
  },
  {
   "cell_type": "code",
   "execution_count": null,
   "id": "a8dc6395",
   "metadata": {},
   "outputs": [],
   "source": [
    "raw_full_df.columns"
   ]
  },
  {
   "cell_type": "code",
   "execution_count": null,
   "id": "2f8cd9f0",
   "metadata": {},
   "outputs": [],
   "source": [
    "num_df = raw_full_df.select_dtypes(include=[np.number])\n",
    "num_df.drop([\"excluded\", \"icustay_id\", \"hadm_id\", \"ICUSTAY_ID\", \"icu_los\",\n",
    "             \"hosp_los\", \"bmi\", \"sirs\", \"qsofa\", \"height\", \"weight\", \"elixhauser_hospital\",\n",
    "            \"lods\"], axis=1).loc[:, (num_df.max(axis=0) != 1) | (num_df.min(axis=0) != 0)].describe()\n"
   ]
  },
  {
   "cell_type": "code",
   "execution_count": null,
   "id": "bc9671c0",
   "metadata": {},
   "outputs": [],
   "source": [
    "num_df.drop([\"excluded\", \"icustay_id\", \"hadm_id\", \"ICUSTAY_ID\", \"icu_los\",\n",
    "             \"hosp_los\", \"bmi\", \"sirs\", \"qsofa\", \"height\", \"weight\", \"elixhauser_hospital\",\n",
    "            \"lods\"], axis=1).isna().sum(axis=0) / len(num_df)"
   ]
  },
  {
   "cell_type": "code",
   "execution_count": null,
   "id": "9da54185",
   "metadata": {},
   "outputs": [],
   "source": []
  },
  {
   "cell_type": "code",
   "execution_count": null,
   "id": "cad90efb",
   "metadata": {},
   "outputs": [],
   "source": [
    "raw_full_df.select_dtypes(include=[np.number]).max(axis=0)"
   ]
  },
  {
   "cell_type": "code",
   "execution_count": null,
   "id": "b499e399",
   "metadata": {},
   "outputs": [],
   "source": [
    "features = [\"max_lactic_acid\", \"max_wbc\", \"delta_lactic_acid\", \"max_neuts\", \"max_glucose\", \"max_bun\",        \n",
    "    \"max_rr\", \"last_albumin\", \"min_sbp\", \"max_creatinine\", \"max_temp_f\"]\n",
    "\n",
    "raw_full_df[features].isna().sum(axis=1).describe()"
   ]
  },
  {
   "cell_type": "code",
   "execution_count": null,
   "id": "1bed218c",
   "metadata": {},
   "outputs": [],
   "source": [
    "raw_full_df[features].isna().sum(axis=0) / len(raw_full_df)"
   ]
  },
  {
   "cell_type": "code",
   "execution_count": null,
   "id": "a3b399e2",
   "metadata": {},
   "outputs": [],
   "source": [
    "raw_full_df[[\"max_lactic_acid\", \"max_wbc\", \"delta_lactic_acid\", \"max_neuts\", \"max_glucose\", \"max_bun\",        \n",
    "    \"max_rr\", \"last_albumin\", \"min_sbp\", \"max_creatinine\", \"max_temp_f\"]]\n"
   ]
  },
  {
   "cell_type": "code",
   "execution_count": null,
   "id": "4eedc585",
   "metadata": {},
   "outputs": [],
   "source": [
    "#df_with_ethnicity = raw_full_df.merge(admissions[[\"subject_id\", \"ethnicity\"]], how=\"left\", on=\"subject_id\").drop_duplicates(\"icustay_id\").reset_index(drop=True)\n",
    "#df_wb = df_with_ethnicity[df_with_ethnicity.ethnicity.str.startswith(\"WHITE\") | df_with_ethnicity.ethnicity.str.startswith(\"BLACK\")] \n",
    "df_wb = raw_full_df[raw_full_df.race_white + raw_full_df.race_black > 0]\n",
    "df_wb[\"ethnicity_id\"] = (df_wb.race_white == 1).astype(int)\n",
    "df_wb = df_wb[df_wb[feature_cols].isna().sum(axis=1) < len(feature_cols)]"
   ]
  },
  {
   "cell_type": "code",
   "execution_count": null,
   "id": "3af65094",
   "metadata": {},
   "outputs": [],
   "source": [
    "sim.df.loc[sim.indices[0], sim.feature_cols].var(axis=0)\n"
   ]
  },
  {
   "cell_type": "code",
   "execution_count": null,
   "id": "88ae9895",
   "metadata": {},
   "outputs": [],
   "source": [
    "feature_cols = [\"max_lactic_acid\", \"first_shock_index_age\", \"last_shock_index_age\", \"max_wbc\", \"delta_lactic_acid\",\n",
    "               \"max_neuts\", \"max_glucose\", \"max_bun\", \"max_rr\", \"last_albumin\", \"min_sbp\", \"max_creatinine\", \"max_temp_f\"]\n",
    "X = df_wb[feature_cols].fillna(-9999)\n",
    "y = df_wb[\"sepsis-3\"]\n",
    "A = df_wb.ethnicity_id"
   ]
  },
  {
   "cell_type": "code",
   "execution_count": null,
   "id": "ef98ca7a",
   "metadata": {},
   "outputs": [],
   "source": [
    "df_wb.to_csv(\"/data4/mimiciii/sepsis3_mimic_ros_replication.csv\")"
   ]
  },
  {
   "cell_type": "code",
   "execution_count": null,
   "id": "c1d1db87",
   "metadata": {},
   "outputs": [],
   "source": [
    "\n",
    "df_wb[\"sepsis-3\"].mean()"
   ]
  },
  {
   "cell_type": "code",
   "execution_count": null,
   "id": "7d0e7a9a",
   "metadata": {},
   "outputs": [],
   "source": []
  },
  {
   "cell_type": "code",
   "execution_count": null,
   "id": "730933dc",
   "metadata": {},
   "outputs": [],
   "source": [
    "import operator as op\n",
    "import numpy as np\n",
    "\n",
    "\"\"\"\n",
    "                        summary_fns=[op.itemgetter(0), op.itemgetter(-1), np.min, np.max, np.mean, lambda x: x[-1] - x[0]],\n",
    "                        summary_names=[\"first\", \"last\", \"min\", \"max\", \"mean\", \"overall_change\"]\n",
    "\"\"\"\n",
    "\n",
    "def summarize(ce_df):\n",
    "    value_series = ce_df.VALUENUM\n",
    "    first, last, minimum, maximum = value_series.iloc[0], value_series.iloc[-1], value_series.min(), value_series.max()\n",
    "    change_over_time = last - first\n",
    "    return pd.Series({\"first\": first, \"last\": last, \"min\": minimum, \"max\": maximum, \"delta\": change_over_time})\n",
    "\n",
    "def get_summary_measures(measure, agg_fn):\n",
    "    measures = items_with_counts[items_with_counts.label.str.contains(measure, case=False, regex=True, na=False)].sort_values(by=\"count\")\n",
    "    values = ce_for_metavision[ce_for_metavision.ITEMID.isin(measures.itemid)]\n",
    "    return values.groupby(\"ICUSTAY_ID\").VALUENUM.progress_apply(agg_fn).reset_index()\n",
    "    #return pd.DataFrame([summarizer(values) for summarizer in summary_fns]"
   ]
  },
  {
   "cell_type": "code",
   "execution_count": null,
   "id": "478764e2",
   "metadata": {},
   "outputs": [],
   "source": [
    "items_with_counts[items_with_counts.label.str.contains(\"temperature f\", case=False, regex=True, na=False)].sort_values(by=\"count\")\n"
   ]
  },
  {
   "cell_type": "code",
   "execution_count": null,
   "id": "6d5622a5",
   "metadata": {},
   "outputs": [],
   "source": [
    "items_with_counts[items_with_counts.category == \"Routine Vital Signs\"]"
   ]
  },
  {
   "cell_type": "code",
   "execution_count": null,
   "id": "5701eb23",
   "metadata": {},
   "outputs": [],
   "source": [
    "# abx\n",
    "\"\"\"DOBUTAMINE  (Y/N)\n",
    "DOPAMINE  (Y/N)\n",
    "EPINEPHRINE  (Y/N)\n",
    "NOREPINEPHRINE  (Y/N)\"\"\"\n",
    "def get_icu_stays_for_drug(drugname):\n",
    "    return rx[rx.drug.str.upper() == drugname.upper()].icustay_id.unique()\n",
    "    \n",
    "cohort[\"dobutamine\"] = cohort.icustay_id.isin(get_icu_stays_for_drug(\"dobutamine\")).astype(int)\n",
    "cohort[\"dopamine\"] = cohort.icustay_id.isin(get_icu_stays_for_drug(\"dopamine\")).astype(int)\n",
    "cohort[\"epinephrine\"] = cohort.icustay_id.isin(get_icu_stays_for_drug(\"epinephrine\")).astype(int)\n",
    "cohort[\"norepinephrine\"] = cohort.icustay_id.isin(get_icu_stays_for_drug(\"norepinephrine\")).astype(int)"
   ]
  },
  {
   "cell_type": "code",
   "execution_count": null,
   "id": "576b8642",
   "metadata": {},
   "outputs": [],
   "source": [
    "ne = pd.read_sql_query(sql=text(\"select * from mimiciii.noteevents\"), con=conn)\n"
   ]
  },
  {
   "cell_type": "code",
   "execution_count": null,
   "id": "eb001ab4",
   "metadata": {},
   "outputs": [],
   "source": [
    "ne_with_ccs"
   ]
  },
  {
   "cell_type": "code",
   "execution_count": null,
   "id": "3d9e94ec",
   "metadata": {},
   "outputs": [],
   "source": [
    "ne_with_ccs = ne[ne.text.str.contains(\"CHIEF COMPLAINT\") & (ne.category == \"Discharge summary\")]"
   ]
  },
  {
   "cell_type": "code",
   "execution_count": null,
   "id": "85c74236",
   "metadata": {},
   "outputs": [],
   "source": [
    "import re\n",
    "\n",
    "ne_with_ccs[\"cc_text\"] = ne_with_ccs.text.str.extract(r'(?P<cc_text>\\s?CHIEF\\s+COMPLAINT(?:[\\w\\s\\/]+)?:\\s*.+?(?=\\n\\n))', flags=re.IGNORECASE | re.DOTALL)\n"
   ]
  },
  {
   "cell_type": "code",
   "execution_count": null,
   "id": "fb4a1479",
   "metadata": {},
   "outputs": [],
   "source": []
  }
 ],
 "metadata": {
  "kernelspec": {
   "display_name": "Python 3 (ipykernel)",
   "language": "python",
   "name": "python3"
  },
  "language_info": {
   "codemirror_mode": {
    "name": "ipython",
    "version": 3
   },
   "file_extension": ".py",
   "mimetype": "text/x-python",
   "name": "python",
   "nbconvert_exporter": "python",
   "pygments_lexer": "ipython3",
   "version": "3.9.16"
  }
 },
 "nbformat": 4,
 "nbformat_minor": 5
}
