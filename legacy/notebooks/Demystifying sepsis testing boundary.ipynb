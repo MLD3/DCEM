{
 "cells": [
  {
   "cell_type": "code",
   "execution_count": null,
   "id": "6c1b1224",
   "metadata": {},
   "outputs": [],
   "source": [
    "import pandas as pd"
   ]
  },
  {
   "cell_type": "code",
   "execution_count": null,
   "id": "0ae19454",
   "metadata": {},
   "outputs": [],
   "source": [
    "import glob\n",
    "import os\n",
    "import numpy as np\n",
    "\n",
    "MODEL_KWARGS = {\n",
    "    \"YModel\": {\"color\": \"green\", \"linestyle\": \"dashed\"},\n",
    "    \"YObsModel\": {\"color\": \"red\", \"linestyle\": \"dotted\"},\n",
    "    \"TestedOnlyModel\": {\"color\": \"darkseagreen\"},\n",
    "    \"RecensoringModel\": {\"color\": \"purple\"},\n",
    "    \"Group0BaselineModel\": {\"color\": \"tab:blue\"}, #, \"alpha\": 0.5},\n",
    "    \"Group1BaselineModel\": {\"color\": \"tab:orange\"}, #, \"alpha\": 0.5},\n",
    "    \"PeerLossModel\": {\"color\": \"goldenrod\"},\n",
    "    \"GroupPeerLossModel\": {\"color\": \"gold\"},\n",
    "    \"JSModel\": {\"color\": \"steelblue\"},\n",
    "    \"TruncatedLQModel\": {\"color\": \"slategray\"},\n",
    "    \"DivideMixBasedModel\": {\"color\": \"skyblue\"},\n",
    "    #\"DivideMixCheatModel\": {\"color\": \"silver\"},\n",
    "    #\"SELFCheatModel\": {\"color\": \"skyblue\"},\n",
    "    \"ITECorrectedModel\": {\"color\": \"chocolate\"},\n",
    "    \"SELFModel\": {\"color\": \"midnightblue\"},\n",
    "    \"SAREMModel\": {\"color\": \"purple\"},\n",
    "    \"DCEMModel\": {\"color\": \"magenta\"},\n",
    "}\n",
    "\n",
    "NAME_REPLACEMENT = {\n",
    "    \"YModel\": \"$y$-model (oracle)\",\n",
    "    \"YObsModel\": \"$y$-obs model\",\n",
    "    \"TestedOnlyModel\": \"Tested-only\",\n",
    "    \"Group0BaselineModel\": \"Group 0 only\",\n",
    "    \"Group1BaselineModel\": \"Group 1 only\",\n",
    "    \"PeerLossModel\": \"Peer loss\",\n",
    "    \"GroupPeerLossModel\": \"Group peer loss\",\n",
    "    \"ITECorrectedModel\": \"DragonNet\", # \"ITE-corrected\",\n",
    "    \"JSModel\": \"Generalized JS\",\n",
    "    \"TruncatedLQModel\": \"Truncated LQ\",\n",
    "    \"SELFModel\": \"SELF\",\n",
    "    \"SAREMModel\": \"SAREM\",\n",
    "    \"DCEMModel\": \"DCEM (ours)\"\n",
    "}\n",
    "\n",
    "\n",
    "\n",
    "sepsis_results = []\n",
    "#sepsis_bs = []\n",
    "for f in sorted(glob.glob(\"/data4/username/disparate_censorship_mitigation_sepsis/sepsis_20230724_*alpha*/\")):\n",
    "    print(f)\n",
    "    df = pd.read_csv(os.path.join(f, \"results.csv\"), index_col=np.arange(4))\n",
    "    #bs_df = pd.read_csv(os.path.join(f, \"bootstrap_results.csv\"), index_col=np.arange(5))\n",
    "    if \"testedonly\" not in f:\n",
    "        df = df[df.index.get_level_values(\"model\") != \"DCEMModel\"]\n",
    "    sepsis_results.append(df)\n",
    "    #sepsis_bs.append(bs_df)\n",
    "    \n",
    "sepsis_results = pd.concat(sepsis_results, keys=np.tile(np.linspace(0, 1, 11), 2))\n",
    "#sepsis_bs = pd.concat(sepsis_bs, keys=np.linspace(0, 1, 10))\n",
    "sepsis_results\n"
   ]
  },
  {
   "cell_type": "code",
   "execution_count": null,
   "id": "21a3d5bc",
   "metadata": {},
   "outputs": [],
   "source": [
    "df = pd.read_csv(\"/data4/username/disparate_censorship_mitigation_sepsis/sepsis_20230724_alpha1.000/results.csv\")\n",
    "df[df[\"model\"] == \"ITECorrectedModel\"]"
   ]
  },
  {
   "cell_type": "code",
   "execution_count": null,
   "id": "00cc28c3",
   "metadata": {},
   "outputs": [],
   "source": [
    "sepsis_results.xs((4, 1.5), level=(1, 2)).xs(\"ITECorrectedModel\", level=\"model\")"
   ]
  },
  {
   "cell_type": "code",
   "execution_count": null,
   "id": "4a1b470b",
   "metadata": {},
   "outputs": [],
   "source": [
    "import matplotlib.pyplot as plt\n",
    "plt.rcParams['text.usetex'] = True\n",
    "\n",
    "fig, ax = plt.subplots(1, 2, figsize=(8, 2))\n",
    "sepsis_slice = sepsis_results.xs((4, 1.5), level=(1, 2)).sort_values(by=\"model\", key=lambda column: column.map(lambda e: list(MODEL_KWARGS.keys()).index(e)))\n",
    "\n",
    "models = sepsis_slice.index.get_level_values(\"model\").unique()\n",
    "include_models = []\n",
    "for m in models:\n",
    "    #if m not in [\"ITECorrectedModel\", \"DCEMModel\"]: continue\n",
    "    if m in [\"Group0BaselineModel\", \"Group1BaselineModel\", \"YModel\"]:\n",
    "        continue\n",
    "    df = sepsis_slice.xs(m, level=\"model\").sort_index()\n",
    "    x = df.index.get_level_values(0).unique()\n",
    "    y1 = df.xs(\"AUC\", level=\"metric\")[\"overall\"]\n",
    "    y2 = df.xs(\"ROCGap\", level=\"metric\")[\"diff\"]\n",
    "\n",
    "    \n",
    "    ax[1].set_title(r\"$\\uparrow$ Discriminative performance\")\n",
    "    ax[0].set_title(r\"$\\downarrow$ Bias mitigation\")\n",
    "    \n",
    "    ax[1].set_xlabel(r\"$\\leftarrow$ Systolic BP more salient $\\mid$ Resp. rate more salient $\\rightarrow$\" + \"\\n\\n Systolic BP vs. resp. rate weighing, $s_T$\")\n",
    "    ax[0].set_xlabel(r\"$\\leftarrow$ Systolic BP more salient $\\mid$ Resp. rate more salient $\\rightarrow$\" + \"\\n\\n Systolic BP vs. resp. rate weighing, $s_T$\")\n",
    "\n",
    "    ax[1].set_ylabel(\"AUC\")\n",
    "    ax[0].set_ylabel(\"ROC Gap\")\n",
    "    \n",
    "    ax[1].plot(x, y1, **MODEL_KWARGS[m], label=NAME_REPLACEMENT[m], alpha=0.5, marker=\".\")\n",
    "    ax[0].plot(x, y2, **MODEL_KWARGS[m], label=None, alpha=0.5, marker=\".\")\n",
    "    include_models.append(m)\n",
    "    \n",
    "lgd = fig.legend(labels=list(map(lambda x: NAME_REPLACEMENT.get(x, x), include_models)), loc=\"lower center\", ncol=4, bbox_to_anchor=(0.5, -0.2))\n",
    "fig.tight_layout()\n",
    "plt.savefig(\"sepsis_wrt_boundaries.pdf\", bbox_extra_artists=(lgd,), bbox_inches='tight')"
   ]
  },
  {
   "cell_type": "code",
   "execution_count": null,
   "id": "22f8e4b6",
   "metadata": {},
   "outputs": [],
   "source": [
    "sepsis_slice"
   ]
  },
  {
   "cell_type": "code",
   "execution_count": null,
   "id": "55fb28a3",
   "metadata": {},
   "outputs": [],
   "source": [
    "import pickle\n",
    "import torch\n",
    "import io\n",
    "import os\n",
    "\n",
    "import sys\n",
    "if sys.path[0] != \"..\":\n",
    "    sys.path.insert(0, \"..\")\n",
    "\n",
    "class CPU_Unpickler(pickle.Unpickler):\n",
    "    def find_class(self, module, name):\n",
    "        if module == 'torch.storage' and name == '_load_from_bytes':\n",
    "            return lambda b: torch.load(io.BytesIO(b), map_location='cpu')\n",
    "        else:\n",
    "            return super().find_class(module, name)\n",
    "\n",
    "\n",
    "MODEL_DIR = \"/data4/username/disparate_censorship_mitigation_sepsis/sepsis_20240123_dcem_testedonly_alpha0.000/\"\n",
    "SETTING_DIR = \"k_4_testing_disparity_1.5/\"\n",
    "\n",
    "print(\"Loading data...\")\n",
    "with open(os.path.join(MODEL_DIR, \"data_dict.pkl\"), \"rb\") as f:\n",
    "    data_dict = CPU_Unpickler(f).load()\n",
    "\n",
    "print(\"Loading model...\")\n",
    "with open(os.path.join(MODEL_DIR, SETTING_DIR, \"DCEMModel_model_info/model.pkl\"), \"rb\") as f:\n",
    "    model = CPU_Unpickler(f).load()\n",
    "    \n",
    "#print(\"Loading aux model info...\")\n",
    "#with open(EXTRA_INFO_DEMO, \"rb\") as f:\n",
    "#    extra_info = CPU_Unpickler(f).load()\n",
    "    \n",
    "print(\"Loading sim...\")\n",
    "with open(os.path.join(MODEL_DIR,SETTING_DIR, \"sim.pkl\"), \"rb\") as f:\n",
    "    sim = CPU_Unpickler(f).load()\n"
   ]
  },
  {
   "cell_type": "code",
   "execution_count": null,
   "id": "ab2a0479",
   "metadata": {},
   "outputs": [],
   "source": [
    "D_tr = data_dict[(\"k_4\", \"testing_disparity_1.5\")][\"train\"]\n",
    "X_tr, A_tr, T_tr = D_tr[\"X\"], D_tr[\"A\"], D_tr[\"T\"]\n",
    "\n",
    "D_ts = data_dict[(\"k_4\", \"testing_disparity_1.5\")][\"test\"]\n",
    "X_ts, A_ts, T_ts = D_ts[\"X\"], D_ts[\"A\"], D_ts[\"T\"]\n",
    "\n",
    "import numpy as np\n",
    "XA_ts = np.concatenate([X_ts, X_ts * A_ts[:, None], A_ts[:, None]], axis=1)"
   ]
  },
  {
   "cell_type": "code",
   "execution_count": null,
   "id": "077cbf04",
   "metadata": {},
   "outputs": [],
   "source": [
    "from sklearn.metrics import roc_auc_score\n",
    "\n",
    "props = model.uni_propensity_model.predict_proba(XA_ts)\n",
    "roc_auc_score(T_ts, props[:, 1])"
   ]
  },
  {
   "cell_type": "code",
   "execution_count": null,
   "id": "6091047d",
   "metadata": {},
   "outputs": [],
   "source": [
    "sepsis_old = pd.read_csv(\"./data4/\")"
   ]
  }
 ],
 "metadata": {
  "kernelspec": {
   "display_name": "Python 3 (ipykernel)",
   "language": "python",
   "name": "python3"
  },
  "language_info": {
   "codemirror_mode": {
    "name": "ipython",
    "version": 3
   },
   "file_extension": ".py",
   "mimetype": "text/x-python",
   "name": "python",
   "nbconvert_exporter": "python",
   "pygments_lexer": "ipython3",
   "version": "3.9.15"
  }
 },
 "nbformat": 4,
 "nbformat_minor": 5
}
